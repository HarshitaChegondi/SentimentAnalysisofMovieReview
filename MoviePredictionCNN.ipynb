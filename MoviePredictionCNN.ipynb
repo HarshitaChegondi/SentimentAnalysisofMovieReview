{
 "cells": [
  {
   "cell_type": "code",
   "execution_count": null,
   "id": "ac3309ea",
   "metadata": {},
   "outputs": [],
   "source": [
    "import tarfile\n",
    "import os\n",
    "import urllib.request\n",
    "\n",
    "# URL of the dataset\n",
    "datasetURL = \"http://ai.stanford.edu/~amaas/data/sentiment/aclImdb_v1.tar.gz\"\n",
    "datasetFilename = \"aclImdb_v1.tar.gz\"\n",
    "\n",
    "# Download the dataset\n",
    "if not os.path.exists(datasetFilename):\n",
    "    urllib.request.urlretrieve(datasetURL, datasetFilename)\n",
    "\n",
    "# Extract the dataset\n",
    "with tarfile.open(datasetFilename, 'r:gz') as tar:\n",
    "    tar.extractall()"
   ]
  },
  {
   "cell_type": "code",
   "execution_count": 2,
   "id": "fecd86bb",
   "metadata": {},
   "outputs": [],
   "source": [
    "import os\n",
    "import pandas as pd\n",
    "\n",
    "def loadData(data_dir):\n",
    "    texts = []\n",
    "    labels = []\n",
    "    for label in ['pos', 'neg']:\n",
    "        label_dir = os.path.join(data_dir, label)\n",
    "        for filename in os.listdir(label_dir):\n",
    "            if filename.endswith('.txt'):\n",
    "                with open(os.path.join(label_dir, filename), 'r', encoding='utf-8') as file:\n",
    "                    text = file.read()\n",
    "                    texts.append(text)\n",
    "                    labels.append(label)\n",
    "    return pd.DataFrame({'text': texts, 'label': labels})\n",
    "\n",
    "\n",
    "\n",
    "data_dir = 'aclImdb/train'  # Change this to the appropriate folder\n",
    "df = loadData(data_dir)\n",
    "\n",
    "data_dir = 'aclImdb/test'  # Change this to the appropriate folder\n",
    "dftest = loadData(data_dir)"
   ]
  },
  {
   "cell_type": "code",
   "execution_count": 3,
   "id": "21aea340",
   "metadata": {},
   "outputs": [],
   "source": [
    "from sklearn.preprocessing import LabelEncoder\n",
    "\n",
    "# Create a label encoder\n",
    "label_encoder = LabelEncoder()\n",
    "\n",
    "# Fit the encoder to the labels and transform the 'label' column\n",
    "df['label_encoded'] = label_encoder.fit_transform(df['label'])\n",
    "dftest['label_encoded'] = label_encoder.fit_transform(dftest['label'])\n",
    "\n",
    "# Now, 'label_encoded' contains numerical representations of the labels\n"
   ]
  },
  {
   "cell_type": "code",
   "execution_count": null,
   "id": "17ae5a43",
   "metadata": {},
   "outputs": [],
   "source": [
    "df.head()"
   ]
  },
  {
   "cell_type": "code",
   "execution_count": null,
   "id": "dc69c4cb",
   "metadata": {},
   "outputs": [],
   "source": [
    "print(dftest)"
   ]
  },
  {
   "cell_type": "code",
   "execution_count": null,
   "id": "4bc17e10",
   "metadata": {},
   "outputs": [],
   "source": [
    "df['label'].unique()"
   ]
  },
  {
   "cell_type": "code",
   "execution_count": null,
   "id": "30c81e51",
   "metadata": {},
   "outputs": [],
   "source": [
    "print(dftest)"
   ]
  },
  {
   "cell_type": "code",
   "execution_count": 4,
   "id": "65fad307",
   "metadata": {},
   "outputs": [],
   "source": [
    "stopwords = ['i', 'me', 'my', 'myself', 'we', 'our', 'ours', 'ourselves', 'you', \"you're\", \"you've\", \n",
    "             \"you'll\", \"you'd\", 'your', 'yours', 'yourself', 'yourselves', \n",
    "             'he', 'him', 'his', 'himself', 'she', \"she's\", 'her', 'hers', \n",
    "             'herself', 'it', \"it's\", 'its', 'itself', 'they', 'them', 'their', \n",
    "             'theirs', 'themselves', 'what', 'which', 'who', 'whom', 'this', 'that', \n",
    "             \"that'll\", 'these', 'those', 'am', 'is', 'are', 'was', 'were', 'be', \n",
    "             'been', 'being', 'have', 'has', 'had', 'having', 'do', 'does', 'did', \n",
    "             'doing', 'a', 'an', 'the', 'and', 'but', 'if', 'or', 'because', 'as', \n",
    "             'until', 'while', 'of', 'at', 'by', 'for', 'with', 'about', 'against', \n",
    "             'between', 'into', 'through', 'during', 'before', 'after', 'above', 'below', \n",
    "             'to', 'from', 'up', 'down', 'in', 'out', 'on', 'off', 'over', 'under', 'again', \n",
    "             'further', 'then', 'once', 'here', 'there', 'when', 'where', 'why', 'how',\n",
    "             'all', 'any', 'both', 'each', 'few', 'more', 'most', 'other', 'some', 'such',\n",
    "             'no', 'nor', 'not', 'only', 'own', 'same', 'so', 'than', 'too', 'very', 's', 't',\n",
    "             'can', 'will', 'just', 'don', \"don't\", 'should', \"should've\", 'now', 'd', 'll', 'm',\n",
    "             'o', 're', 've', 'y', 'ain', 'aren', \"aren't\", 'couldn', \"couldn't\", 'didn', \"didn't\",\n",
    "             'doesn', \"doesn't\", 'hadn', \"hadn't\", 'hasn', \"hasn't\", 'haven', \"haven't\", 'isn', \n",
    "             \"isn't\", 'ma', 'mightn', \"mightn't\", 'mustn', \"mustn't\", 'needn', \"needn't\", 'shan', \n",
    "             \"shan't\", 'shouldn', \"shouldn't\", 'wasn', \"wasn't\", 'weren', \"weren't\", 'won', \"won't\", 'wouldn', \"wouldn't\"]"
   ]
  },
  {
   "cell_type": "code",
   "execution_count": null,
   "id": "faa749af",
   "metadata": {},
   "outputs": [],
   "source": [
    "import nltk\n",
    "\n",
    "nltk.download()"
   ]
  },
  {
   "cell_type": "code",
   "execution_count": 5,
   "id": "b70b6765",
   "metadata": {},
   "outputs": [],
   "source": [
    "import re\n",
    "\n",
    "def preprocess(text):\n",
    "    # remove punctuation and convert to lowercase\n",
    "    text = re.sub(r'[^\\w\\s]', '', str(text).lower())\n",
    "    text = re.sub('<br />', '', text) \n",
    "    text = re.sub(r\"http\\S+|www\\S+|https\\S+\", '', text, flags=re.MULTILINE)\n",
    "    text = re.sub(r'\\@w+|\\#','', text)\n",
    "    text = re.sub(r'[^\\w\\s]','', text) \n",
    "    text = ' '.join([word for word in text.split() if word not in stopwords])\n",
    "    return text\n"
   ]
  },
  {
   "cell_type": "code",
   "execution_count": 95,
   "id": "469f135d",
   "metadata": {},
   "outputs": [
    {
     "name": "stdout",
     "output_type": "stream",
     "text": [
      "0        bromwell high cartoon comedy ran time programs...\n",
      "1        homelessness houselessness george carlin state...\n",
      "2        brilliant overacting lesley ann warren best dr...\n",
      "3        easily underrated film inn brooks cannon sure ...\n",
      "4        typical mel brooks film much less slapstick mo...\n",
      "                               ...                        \n",
      "24995    towards end movie felt technical felt like cla...\n",
      "24996    kind movie enemies content watch time bloody t...\n",
      "24997    saw descent last night stockholm film festival...\n",
      "24998    films pick pound turn rather good 23rd century...\n",
      "24999    one dumbest films ive ever seen rips nearly ev...\n",
      "Name: text, Length: 25000, dtype: object\n"
     ]
    }
   ],
   "source": [
    "trainDataPreprocess = df.copy()\n",
    "trainDataPreprocess['text'] = trainDataPreprocess['text'].apply(preprocess)\n",
    "print(trainDataPreprocess['text']);"
   ]
  },
  {
   "cell_type": "code",
   "execution_count": null,
   "id": "835393ca",
   "metadata": {},
   "outputs": [],
   "source": [
    "print(trainDataPreprocess)"
   ]
  },
  {
   "cell_type": "code",
   "execution_count": 9,
   "id": "2f45ab92",
   "metadata": {},
   "outputs": [
    {
     "name": "stdout",
     "output_type": "stream",
     "text": [
      "                                                text label  label_encoded\n",
      "0  scientist girl friend driving speeding causes ...   neg              0\n",
      "1  hearing praise play decided watch stumbled acr...   neg              0\n",
      "2  far worse awful laurel hardy cartoons 60s terr...   neg              0\n",
      "3  mom recently become addicted show laughing but...   pos              1\n",
      "4  fact young people distasteful couldnt wait em ...   neg              0\n"
     ]
    }
   ],
   "source": [
    "import pandas as pd\n",
    "from sklearn.utils import shuffle\n",
    "\n",
    "\n",
    "trainDataPreprocess = shuffle(trainDataPreprocess)\n",
    "trainDataPreprocess.reset_index(drop=True, inplace=True)\n",
    "print(trainDataPreprocess.head())"
   ]
  },
  {
   "cell_type": "code",
   "execution_count": 10,
   "id": "46519159",
   "metadata": {},
   "outputs": [
    {
     "name": "stdout",
     "output_type": "stream",
     "text": [
      "                                                text label  label_encoded\n",
      "0  say grainy poorly filmed 16mm stag film best a...   neg              0\n",
      "1  spite highminded ambitions zurlinis film must ...   neg              0\n",
      "2  watched fair bit bollywood films growing know ...   pos              1\n",
      "3  taking cues backwoods classics deliverance tex...   pos              1\n",
      "4  illconceived sequelthe absurd idea killer snow...   neg              0\n"
     ]
    }
   ],
   "source": [
    "testDataPreprocess = dftest.copy()\n",
    "testDataPreprocess['text'] = testDataPreprocess['text'].apply(preprocess)\n",
    "\n",
    "import pandas as pd\n",
    "from sklearn.utils import shuffle\n",
    "\n",
    "\n",
    "testDataPreprocess = shuffle(testDataPreprocess)\n",
    "testDataPreprocess.reset_index(drop=True, inplace=True)\n",
    "print(testDataPreprocess.head())"
   ]
  },
  {
   "cell_type": "code",
   "execution_count": 96,
   "id": "8993df5a",
   "metadata": {},
   "outputs": [],
   "source": [
    "import re\n",
    "from nltk.stem import WordNetLemmatizer\n",
    "\n",
    "stemmer = WordNetLemmatizer()\n",
    "# Define a function to remove HTML tags\n",
    "def remove_html_tags(text):\n",
    "    clean = re.compile('<.*?>')\n",
    "    clean = [stemmer.lemmatize(word) for word in text]\n",
    "    clean = ' '.join(clean)\n",
    "    return re.sub(clean, '', text)\n",
    "\n",
    "# Apply the function to the 'text' column\n",
    "trainDataPreprocess['text'] = trainDataPreprocess['text'].apply(remove_html_tags)\n",
    "testDataPreprocess['text'] = testDataPreprocess['text'].apply(remove_html_tags)\n"
   ]
  },
  {
   "cell_type": "code",
   "execution_count": 97,
   "id": "09f5e11d",
   "metadata": {},
   "outputs": [
    {
     "data": {
      "text/plain": [
       "0        bromwell high cartoon comedy ran time programs...\n",
       "1        homelessness houselessness george carlin state...\n",
       "2        brilliant overacting lesley ann warren best dr...\n",
       "3        easily underrated film inn brooks cannon sure ...\n",
       "4        typical mel brooks film much less slapstick mo...\n",
       "                               ...                        \n",
       "24995    towards end movie felt technical felt like cla...\n",
       "24996    kind movie enemies content watch time bloody t...\n",
       "24997    saw descent last night stockholm film festival...\n",
       "24998    films pick pound turn rather good 23rd century...\n",
       "24999    one dumbest films ive ever seen rips nearly ev...\n",
       "Name: text, Length: 25000, dtype: object"
      ]
     },
     "execution_count": 97,
     "metadata": {},
     "output_type": "execute_result"
    }
   ],
   "source": [
    "trainDataPreprocess['text']"
   ]
  },
  {
   "cell_type": "code",
   "execution_count": null,
   "id": "2fca2e8c",
   "metadata": {},
   "outputs": [],
   "source": [
    "uniqueWords = set(trainDataPreprocess['text'])\n",
    "countUnique = len(uniqueWords)\n",
    "print(countUnique)"
   ]
  },
  {
   "cell_type": "code",
   "execution_count": null,
   "id": "ba7e4b41",
   "metadata": {},
   "outputs": [],
   "source": [
    "df_combined = pd.concat([df, dftest], ignore_index=True)"
   ]
  },
  {
   "cell_type": "code",
   "execution_count": null,
   "id": "3061eefa",
   "metadata": {},
   "outputs": [],
   "source": [
    "df_combined['label'].unique()"
   ]
  },
  {
   "cell_type": "code",
   "execution_count": 98,
   "id": "d564c08e",
   "metadata": {},
   "outputs": [],
   "source": [
    "import numpy as np\n",
    "import pandas as pd\n",
    "from tensorflow.keras.preprocessing.text import Tokenizer\n",
    "from tensorflow.keras.preprocessing.sequence import pad_sequences\n",
    "from tensorflow.keras.models import Sequential\n",
    "from tensorflow.keras.layers import Embedding, Conv1D, MaxPooling1D, Flatten, Dense, Dropout\n",
    "from sklearn.model_selection import train_test_split"
   ]
  },
  {
   "cell_type": "code",
   "execution_count": null,
   "id": "9186bf5b",
   "metadata": {},
   "outputs": [],
   "source": [
    "uniqueWords = set(dataTrain)\n",
    "countUnique = len(uniqueWords)\n",
    "print(countUnique)"
   ]
  },
  {
   "cell_type": "code",
   "execution_count": 156,
   "id": "b9908993",
   "metadata": {},
   "outputs": [],
   "source": [
    "from collections import Counter\n",
    "\n",
    "\n",
    "max_features = 10000\n",
    "# ----- Get top 10000 most occuring words in list-----\n",
    "results = Counter()\n",
    "trainDataPreprocess['text'].str.split().apply(results.update)\n",
    "vocabulary = [key[0] for key in results.most_common(max_features)]\n",
    "\n",
    "# ----- Create tokenizer based on your top 10000 words -----\n",
    "tokenizer = Tokenizer(num_words=max_features)\n",
    "tokenizer.fit_on_texts(vocabulary)"
   ]
  },
  {
   "cell_type": "code",
   "execution_count": 157,
   "id": "92389bc2",
   "metadata": {},
   "outputs": [
    {
     "name": "stdout",
     "output_type": "stream",
     "text": [
      "[1 1 1 ... 0 0 0]\n",
      "[0 0 1 ... 0 1 0]\n"
     ]
    }
   ],
   "source": [
    "y = np.int32(trainDataPreprocess.label.astype('category').cat.codes.to_numpy())\n",
    "# ----- Get number of classes -----\n",
    "num_classes = np.unique(y).shape[0]\n",
    "print(y)\n",
    "\n",
    "\n",
    "ytest = np.int32(testDataPreprocess.label.astype('category').cat.codes.to_numpy())\n",
    "# ----- Get number of classes -----\n",
    "num_classes = np.unique(ytest).shape[0]\n",
    "print(ytest)"
   ]
  },
  {
   "cell_type": "code",
   "execution_count": 158,
   "id": "c4e11191",
   "metadata": {},
   "outputs": [
    {
     "name": "stdout",
     "output_type": "stream",
     "text": [
      "0        bromwell high cartoon comedy ran time programs...\n",
      "1        homelessness houselessness george carlin state...\n",
      "2        brilliant overacting lesley ann warren best dr...\n",
      "3        easily underrated film inn brooks cannon sure ...\n",
      "4        typical mel brooks film much less slapstick mo...\n",
      "                               ...                        \n",
      "49995    haggard doesnt even need graded since never de...\n",
      "49996    salena incident set arizona six death row inma...\n",
      "49997    terrible moovie fun many levels moost obvious ...\n",
      "49998    brother got hooked carlin back 70s always love...\n",
      "49999    although many billie dove fans delighted work ...\n",
      "Name: text, Length: 50000, dtype: object\n"
     ]
    }
   ],
   "source": [
    "combined_data = pd.concat([trainDataPreprocess['text'], testDataPreprocess['text']], ignore_index=True)\n",
    "print(combined_data)"
   ]
  },
  {
   "cell_type": "code",
   "execution_count": 159,
   "id": "8a2ce563",
   "metadata": {},
   "outputs": [
    {
     "name": "stdout",
     "output_type": "stream",
     "text": [
      "[[   0    0    0 ... 8750 2163  108]\n",
      " [   0    0    0 ... 5823  223  271]\n",
      " [   0    0    0 ...   12   82  283]\n",
      " ...\n",
      " [   0    0    0 ...   15    2   18]\n",
      " [   0    0    0 ...   24 1039  664]\n",
      " [   0    0    0 ...  315    9 1192]]\n",
      "[[   0    0    0 ... 1429 4471 9311]\n",
      " [   0    0    0 ... 3084 4002   70]\n",
      " [   0    0    0 ...  119   12  200]\n",
      " ...\n",
      " [   0    0    0 ... 2394  150 1000]\n",
      " [   0    0    0 ...  666   29 1903]\n",
      " [   0    0    0 ...  252 1927    3]]\n"
     ]
    }
   ],
   "source": [
    "X = tokenizer.texts_to_sequences(trainDataPreprocess['text'].values)\n",
    "X = pad_sequences(X)\n",
    "print(X)\n",
    "\n",
    "Xtest = tokenizer.texts_to_sequences(testDataPreprocess['text'].values)\n",
    "Xtest = pad_sequences(Xtest)\n",
    "print(Xtest)"
   ]
  },
  {
   "cell_type": "code",
   "execution_count": 160,
   "id": "96449a5e",
   "metadata": {},
   "outputs": [],
   "source": [
    "X_train, X_test, y_train, y_test = train_test_split(X, y, test_size=0.2, random_state=42)\n",
    "X_train, X_val, y_train, y_val = train_test_split(X_train, y_train, test_size=0.2, random_state=42)"
   ]
  },
  {
   "cell_type": "code",
   "execution_count": 161,
   "id": "487ad4da",
   "metadata": {},
   "outputs": [],
   "source": [
    "import tensorflow as tf\n",
    "\n",
    "from sklearn.model_selection import train_test_split\n",
    "from sklearn.metrics import accuracy_score, classification_report\n",
    "from collections import Counter\n",
    "\n",
    "from tensorflow.keras.preprocessing.text import Tokenizer\n",
    "from tensorflow.keras.preprocessing.sequence import pad_sequences\n",
    "\n",
    "import matplotlib.pyplot as plt\n",
    "plt.style.use('ggplot')\n",
    "\n",
    "import re\n",
    "from nltk.stem import WordNetLemmatizer\n",
    "\n",
    "from tensorflow.keras.models import Sequential\n",
    "from tensorflow.keras.layers import Embedding, Conv1D, GlobalMaxPooling1D, Dense"
   ]
  },
  {
   "cell_type": "code",
   "execution_count": 162,
   "id": "64ba0f02",
   "metadata": {},
   "outputs": [],
   "source": [
    "output_dim = 16\n",
    "max_input_lenght = X.shape[1]\n",
    "\n",
    "\n",
    "# In[11]:\n",
    "\n",
    "\n",
    "# ----- Define model -----\n",
    "model = tf.keras.Sequential()\n",
    "model.add(tf.keras.layers.Embedding(input_dim=max_features, \n",
    "                                    output_dim=output_dim, input_length=max_input_lenght))\n",
    "model.add(Conv1D(128, 5, activation='relu'))\n",
    "model.add(tf.keras.layers.Dropout(0.5))\n",
    "model.add(tf.keras.layers.GlobalAveragePooling1D())\n",
    "model.add(tf.keras.layers.Dense(16, activation='relu'))\n",
    "model.add(tf.keras.layers.Dense(num_classes, activation='softmax'))\n",
    "\n",
    "# ----- Compile model -----\n",
    "model.compile(loss=tf.keras.losses.SparseCategoricalCrossentropy(), \n",
    "              optimizer=tf.keras.optimizers.Adam(1e-4), metrics=[\"accuracy\"])"
   ]
  },
  {
   "cell_type": "code",
   "execution_count": 163,
   "id": "13494384",
   "metadata": {},
   "outputs": [
    {
     "name": "stdout",
     "output_type": "stream",
     "text": [
      "Model: \"sequential_23\"\n",
      "_________________________________________________________________\n",
      " Layer (type)                Output Shape              Param #   \n",
      "=================================================================\n",
      " embedding_23 (Embedding)    (None, 1132, 16)          160000    \n",
      "                                                                 \n",
      " conv1d_23 (Conv1D)          (None, 1128, 128)         10368     \n",
      "                                                                 \n",
      " dropout_23 (Dropout)        (None, 1128, 128)         0         \n",
      "                                                                 \n",
      " global_average_pooling1d_22  (None, 128)              0         \n",
      "  (GlobalAveragePooling1D)                                       \n",
      "                                                                 \n",
      " dense_46 (Dense)            (None, 16)                2064      \n",
      "                                                                 \n",
      " dense_47 (Dense)            (None, 2)                 34        \n",
      "                                                                 \n",
      "=================================================================\n",
      "Total params: 172,466\n",
      "Trainable params: 172,466\n",
      "Non-trainable params: 0\n",
      "_________________________________________________________________\n"
     ]
    }
   ],
   "source": [
    "model.summary()"
   ]
  },
  {
   "cell_type": "code",
   "execution_count": 164,
   "id": "9bd89bed",
   "metadata": {},
   "outputs": [
    {
     "name": "stdout",
     "output_type": "stream",
     "text": [
      "Epoch 1/7\n",
      "2000/2000 [==============================] - 33s 16ms/step - loss: 0.6926 - accuracy: 0.5098 - val_loss: 0.6862 - val_accuracy: 0.5938\n",
      "Epoch 2/7\n",
      "2000/2000 [==============================] - 25s 12ms/step - loss: 0.6047 - accuracy: 0.7389 - val_loss: 0.5102 - val_accuracy: 0.7793\n",
      "Epoch 3/7\n",
      "2000/2000 [==============================] - 24s 12ms/step - loss: 0.4188 - accuracy: 0.8427 - val_loss: 0.3844 - val_accuracy: 0.8608\n",
      "Epoch 4/7\n",
      "2000/2000 [==============================] - 25s 13ms/step - loss: 0.3128 - accuracy: 0.8849 - val_loss: 0.3360 - val_accuracy: 0.8643\n",
      "Epoch 5/7\n",
      "2000/2000 [==============================] - 24s 12ms/step - loss: 0.2606 - accuracy: 0.9041 - val_loss: 0.3231 - val_accuracy: 0.8635\n",
      "Epoch 6/7\n",
      "2000/2000 [==============================] - 26s 13ms/step - loss: 0.2262 - accuracy: 0.9184 - val_loss: 0.3076 - val_accuracy: 0.8830\n",
      "Epoch 7/7\n",
      "2000/2000 [==============================] - 25s 12ms/step - loss: 0.2017 - accuracy: 0.9285 - val_loss: 0.3052 - val_accuracy: 0.8905\n"
     ]
    }
   ],
   "source": [
    "history_1 = model.fit(X_train, y_train,batch_size=8,epochs=7, validation_data=(X_val, y_val))"
   ]
  },
  {
   "cell_type": "code",
   "execution_count": 166,
   "id": "3f72de00",
   "metadata": {},
   "outputs": [
    {
     "name": "stdout",
     "output_type": "stream",
     "text": [
      "157/157 [==============================] - 2s 10ms/step\n",
      " \n",
      "Results\n",
      "Accuracy: 0.90\n",
      " \n",
      "              precision    recall  f1-score   support\n",
      "\n",
      "           0       0.89      0.88      0.89      2485\n",
      "           1       0.89      0.89      0.89      2515\n",
      "\n",
      "    accuracy                           0.89      5000\n",
      "   macro avg       0.89      0.89      0.89      5000\n",
      "weighted avg       0.89      0.89      0.89      5000\n",
      "\n"
     ]
    }
   ],
   "source": [
    "probabilities = model.predict(X_test)\n",
    "\n",
    "pred = np.argmax(probabilities, axis=1)\n",
    "\n",
    "print(\" \")\n",
    "print(\"Results\")\n",
    "\n",
    "accuracy = accuracy_score(y_test, pred)\n",
    "accuracy = round(accuracy,1)\n",
    "\n",
    "print('Accuracy: {:.2f}'.format(accuracy))\n",
    "print(\" \")\n",
    "print(classification_report(y_test, pred))"
   ]
  },
  {
   "cell_type": "code",
   "execution_count": 167,
   "id": "98b4e58c",
   "metadata": {},
   "outputs": [
    {
     "data": {
      "image/png": "[encoded data removed]",
      "text/plain": [
       "<Figure size 640x480 with 1 Axes>"
      ]
     },
     "metadata": {},
     "output_type": "display_data"
    }
   ],
   "source": [
    "from matplotlib import pyplot as plt\n",
    "plt.plot(history_1.history['loss'])\n",
    "plt.plot(history_1.history['val_loss'])\n",
    "plt.title('Model Loss')\n",
    "plt.ylabel('Loss')\n",
    "plt.xlabel('Epoch')\n",
    "plt.legend(['Training', 'Validation'], loc='upper left')\n",
    "plt.show()"
   ]
  },
  {
   "cell_type": "code",
   "execution_count": 168,
   "id": "56f0a4de",
   "metadata": {},
   "outputs": [
    {
     "data": {
      "image/png": "[encoded data removed]",
      "text/plain": [
       "<Figure size 640x480 with 1 Axes>"
      ]
     },
     "metadata": {},
     "output_type": "display_data"
    }
   ],
   "source": [
    "from matplotlib import pyplot as plt\n",
    "plt.plot(history_1.history['accuracy'])\n",
    "plt.plot(history_1.history['val_accuracy'])\n",
    "plt.title('Model Accuracy')\n",
    "plt.ylabel('Accuracy')\n",
    "plt.xlabel('Epoch')\n",
    "plt.legend(['Training', 'Validation'], loc='upper left')\n",
    "plt.show()"
   ]
  },
  {
   "cell_type": "code",
   "execution_count": null,
   "id": "1e582dfb",
   "metadata": {},
   "outputs": [],
   "source": []
  }
 ],
 "metadata": {
  "kernelspec": {
   "display_name": "Python 3 (ipykernel)",
   "language": "python",
   "name": "python3"
  },
  "language_info": {
   "codemirror_mode": {
    "name": "ipython",
    "version": 3
   },
   "file_extension": ".py",
   "mimetype": "text/x-python",
   "name": "python",
   "nbconvert_exporter": "python",
   "pygments_lexer": "ipython3",
   "version": "3.11.2"
  }
 },
 "nbformat": 4,
 "nbformat_minor": 5
}
